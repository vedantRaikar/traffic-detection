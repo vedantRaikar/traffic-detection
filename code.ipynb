{
 "cells": [
  {
   "cell_type": "code",
   "execution_count": null,
   "metadata": {},
   "outputs": [
    {
     "name": "stdout",
     "output_type": "stream",
     "text": [
      "Number of detected objects: 88\n",
      "Category counts: {'car': 68, 'motorbike': 10, 'bus': 3}\n"
     ]
    }
   ],
   "source": [
    "\n",
    "xyxy = results[0].boxes.xyxy.tolist()  # Bounding box coordinates\n",
    "conf = results[0].boxes.conf.tolist()  # Confidence scores\n",
    "cls = results[0].boxes.cls.tolist()    # Class labels\n",
    "\n",
    "# Print the number of detected objects\n",
    "print(\"Number of detected objects:\", len(xyxy))\n",
    "\n",
    "# Get class names based on the index (assuming you have the class names)\n",
    "class_names = model.names  # This gives you the class names in a list\n",
    "class_labels = [class_names[int(label)] for label in cls]\n",
    "\n",
    "# Count the occurrences of each class label\n",
    "category_counts = Counter(class_labels)\n",
    "\n",
    "# Convert Counter to dictionary\n",
    "category_counts_dict = dict(category_counts)\n",
    "del category_counts_dict['person']\n",
    "# Print the dictionary of category counts\n",
    "print(\"Category counts:\", category_counts_dict)\n"
   ]
  },
  {
   "cell_type": "code",
   "execution_count": 15,
   "metadata": {},
   "outputs": [
    {
     "name": "stdout",
     "output_type": "stream",
     "text": [
      "Green light duration (in seconds):\n",
      "Total green time: 54.48 seconds\n",
      "\n",
      "Estimated total waiting time (in seconds):\n",
      "Total waiting time: 161.00 seconds\n"
     ]
    }
   ],
   "source": [
    "# Define PCU values for different vehicle types\n",
    "PCU_VALUES = {\n",
    "    'car': 1.0,\n",
    "    'motorbike': 0.5,\n",
    "    'bus': 2.5,\n",
    "}\n",
    "\n",
    "# Define minimum and maximum green light durations (in seconds)\n",
    "T_MIN = 10  # minimum green light time\n",
    "T_MAX = 60  # maximum green light time\n",
    "\n",
    "# Example input: total count of each type of vehicle at the intersection\n",
    "vehicles_at_intersection = category_counts_dict\n",
    "\n",
    "def calculate_total_pcu(vehicles):\n",
    "    \"\"\"\n",
    "    Calculate the total PCU for all vehicles at the intersection.\n",
    "    \"\"\"\n",
    "    total_pcu = sum(count * PCU_VALUES.get(vehicle_type, 0) for vehicle_type, count in vehicles.items())\n",
    "    return total_pcu\n",
    "\n",
    "def calculate_green_time(total_pcu):\n",
    "    \"\"\"\n",
    "    Calculate the green light duration based on total PCU proportion.\n",
    "    \"\"\"\n",
    "    # Scale green light time based on traffic volume (PCU)\n",
    "    if total_pcu > 0:\n",
    "        return T_MIN + (total_pcu / (total_pcu + 10)) * (T_MAX - T_MIN)\n",
    "    else:\n",
    "        return T_MIN  # Default to minimum time if no vehicles\n",
    "\n",
    "def calculate_waiting_time(total_pcu, average_wait_time_per_vehicle):\n",
    "    \"\"\"\n",
    "    Estimate total waiting time for all vehicles at the intersection.\n",
    "    \"\"\"\n",
    "    return total_pcu * average_wait_time_per_vehicle\n",
    "\n",
    "# Calculate the total PCU for the intersection\n",
    "total_pcu = calculate_total_pcu(vehicles_at_intersection)\n",
    "\n",
    "# Calculate the dynamic green light duration based on the total PCU\n",
    "green_time = calculate_green_time(total_pcu)\n",
    "\n",
    "# Assume an average delay per vehicle based on traffic flow data (this can be dynamic in a real-time system)\n",
    "average_wait_time_per_vehicle = 2  # in seconds\n",
    "\n",
    "# Calculate estimated total waiting time at the intersection\n",
    "total_waiting_time = calculate_waiting_time(total_pcu, average_wait_time_per_vehicle)\n",
    "\n",
    "# Display results\n",
    "print(\"Green light duration (in seconds):\")\n",
    "print(f\"Total green time: {green_time:.2f} seconds\")\n",
    "\n",
    "print(\"\\nEstimated total waiting time (in seconds):\")\n",
    "print(f\"Total waiting time: {total_waiting_time:.2f} seconds\")\n"
   ]
  },
  {
   "cell_type": "code",
   "execution_count": 12,
   "metadata": {},
   "outputs": [
    {
     "name": "stdout",
     "output_type": "stream",
     "text": [
      "\n",
      "image 1/1 C:\\Users\\vedant raikar\\Desktop\\yolov5\\test.jpg: 320x448 3 buss, 68 cars, 10 motorbikes, 7 persons, 61.8ms\n",
      "Speed: 0.0ms preprocess, 61.8ms inference, 0.0ms postprocess per image at shape (1, 3, 320, 448)\n"
     ]
    }
   ],
   "source": [
    "from ultralytics import YOLO\n",
    "import numpy as np\n",
    "from collections import Counter\n",
    "model = YOLO(r\"C:\\Users\\vedant raikar\\Desktop\\yolov5\\best.pt\")\n",
    "\n",
    "\n",
    "threshold = 0.001 \n",
    "results = model.predict(source=r\"C:\\Users\\vedant raikar\\Desktop\\yolov5\\test.jpg\", imgsz=448, conf=threshold)\n"
   ]
  }
 ],
 "metadata": {
  "kernelspec": {
   "display_name": "Python 3",
   "language": "python",
   "name": "python3"
  },
  "language_info": {
   "codemirror_mode": {
    "name": "ipython",
    "version": 3
   },
   "file_extension": ".py",
   "mimetype": "text/x-python",
   "name": "python",
   "nbconvert_exporter": "python",
   "pygments_lexer": "ipython3",
   "version": "3.10.7"
  }
 },
 "nbformat": 4,
 "nbformat_minor": 2
}
