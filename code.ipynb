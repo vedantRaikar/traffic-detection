{
 "cells": [
  {
   "cell_type": "code",
   "execution_count": 34,
   "metadata": {},
   "outputs": [
    {
     "name": "stdout",
     "output_type": "stream",
     "text": [
      "\n",
      "image 1/1 C:\\Users\\vedant raikar\\Desktop\\yolov5\\test.jpg: 320x448 3 buss, 68 cars, 10 motorbikes, 7 persons, 74.3ms\n",
      "Speed: 1.0ms preprocess, 74.3ms inference, 1.0ms postprocess per image at shape (1, 3, 320, 448)\n"
     ]
    }
   ],
   "source": [
    "from ultralytics import YOLO\n",
    "import numpy as np\n",
    "model = YOLO(r\"C:\\Users\\vedant raikar\\Desktop\\yolov5\\best.pt\")\n",
    "\n",
    "\n",
    "threshold = 0.001 \n",
    "results = model.predict(source=r\"C:\\Users\\vedant raikar\\Desktop\\yolov5\\test.jpg\", imgsz=448, conf=threshold)\n"
   ]
  },
  {
   "cell_type": "code",
   "execution_count": 40,
   "metadata": {},
   "outputs": [
    {
     "name": "stdout",
     "output_type": "stream",
     "text": [
      "88\n"
     ]
    }
   ],
   "source": [
    "xyxy = results[0].boxes.xyxy.tolist()\n",
    "conf = results[0].boxes.conf.tolist()\n",
    "print(len(xyxy))"
   ]
  },
  {
   "cell_type": "code",
   "execution_count": 41,
   "metadata": {},
   "outputs": [
    {
     "name": "stdout",
     "output_type": "stream",
     "text": [
      "Number of detected objects: 88\n",
      "Category counts: {'car': 68, 'motorbike': 10, 'person': 7, 'bus': 3}\n"
     ]
    }
   ],
   "source": [
    "import Counter\n",
    "xyxy = results[0].boxes.xyxy.tolist()  # Bounding box coordinates\n",
    "conf = results[0].boxes.conf.tolist()  # Confidence scores\n",
    "cls = results[0].boxes.cls.tolist()    # Class labels\n",
    "\n",
    "# Print the number of detected objects\n",
    "print(\"Number of detected objects:\", len(xyxy))\n",
    "\n",
    "# Get class names based on the index (assuming you have the class names)\n",
    "class_names = model.names  # This gives you the class names in a list\n",
    "class_labels = [class_names[int(label)] for label in cls]\n",
    "\n",
    "# Count the occurrences of each class label\n",
    "category_counts = Counter(class_labels)\n",
    "\n",
    "# Convert Counter to dictionary\n",
    "category_counts_dict = dict(category_counts)\n",
    "\n",
    "# Print the dictionary of category counts\n",
    "print(\"Category counts:\", category_counts_dict)"
   ]
  }
 ],
 "metadata": {
  "kernelspec": {
   "display_name": "Python 3",
   "language": "python",
   "name": "python3"
  },
  "language_info": {
   "codemirror_mode": {
    "name": "ipython",
    "version": 3
   },
   "file_extension": ".py",
   "mimetype": "text/x-python",
   "name": "python",
   "nbconvert_exporter": "python",
   "pygments_lexer": "ipython3",
   "version": "3.10.7"
  }
 },
 "nbformat": 4,
 "nbformat_minor": 2
}
